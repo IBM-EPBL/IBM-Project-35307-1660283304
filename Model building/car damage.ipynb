{
  "cells": [
    {
      "cell_type": "code",
      "execution_count": null,
      "metadata": {
        "colab": {
          "base_uri": "https://localhost:8080/"
        },
        "id": "9cnn_l_Wnk5g",
        "outputId": "2dcb6313-dcf2-4b81-fda3-46351fae3314"
      },
      "outputs": [
        {
          "name": "stdout",
          "output_type": "stream",
          "text": [
            "Drive already mounted at /content/drive; to attempt to forcibly remount, call drive.mount(\"/content/drive\", force_remount=True).\n"
          ]
        }
      ],
      "source": [
        "from google.colab import drive\n",
        "drive.mount('/content/drive')"
      ]
    },
    {
      "cell_type": "code",
      "execution_count": 3,
      "metadata": {
        "id": "fTRCSkEqqHtZ"
      },
      "outputs": [],
      "source": [
        "from tensorflow.keras.layers import Dense, Flatten, Input\n",
        "from tensorflow.keras.models import Model\n",
        "from tensorflow.keras.preprocessing import image\n",
        "from tensorflow.keras.preprocessing.image import ImageDataGenerator, load_img\n",
        "from tensorflow.keras.applications.vgg16 import VGG16, preprocess_input\n",
        "from glob import glob\n",
        "import numpy as np\n",
        "import matplotlib.pyplot as plt"
      ]
    },
    {
      "cell_type": "code",
      "execution_count": 4,
      "metadata": {
        "id": "0H1wwtiLqa71"
      },
      "outputs": [],
      "source": [
        "imageSize = [224, 224]\n",
        "\n",
        "trainPath = r\"/content/drive/MyDrive/dataset1/body/training\"\n",
        "\n",
        "testPath = r\"/content/drive/MyDrive/dataset1/body/validation\""
      ]
    },
    {
      "cell_type": "code",
      "execution_count": 5,
      "metadata": {
        "colab": {
          "base_uri": "https://localhost:8080/"
        },
        "id": "yULX1jzWq6Ky",
        "outputId": "45aa68ae-ff96-409d-e384-6f378bfa4ab2"
      },
      "outputs": [
        {
          "output_type": "stream",
          "name": "stdout",
          "text": [
            "Downloading data from https://storage.googleapis.com/tensorflow/keras-applications/vgg16/vgg16_weights_tf_dim_ordering_tf_kernels_notop.h5\n",
            "58889256/58889256 [==============================] - 0s 0us/step\n"
          ]
        }
      ],
      "source": [
        "# adding preprocessing layers to the front of vgg\n",
        "\n",
        "vgg = VGG16(input_shape=imageSize + [3], weights='imagenet',include_top=False)"
      ]
    },
    {
      "cell_type": "code",
      "execution_count": 6,
      "metadata": {
        "id": "HiYQw2aCrQUQ"
      },
      "outputs": [],
      "source": [
        "# don't train existing weights\n",
        "for layer in vgg.layers:\n",
        "  layer.trainable = False"
      ]
    },
    {
      "cell_type": "code",
      "execution_count": 7,
      "metadata": {
        "id": "cJ57BAtBrX4M"
      },
      "outputs": [],
      "source": [
        "# our layers - you can add more if you want\n",
        "x = Flatten()(vgg.output)"
      ]
    },
    {
      "cell_type": "code",
      "execution_count": 8,
      "metadata": {
        "id": "Te1JVD8crc1z"
      },
      "outputs": [],
      "source": [
        "prediction = Dense(3, activation='softmax')(x)"
      ]
    },
    {
      "cell_type": "code",
      "execution_count": 9,
      "metadata": {
        "id": "bear-7HFrfud"
      },
      "outputs": [],
      "source": [
        "# create a model object\n",
        "model = Model(inputs=vgg.input, outputs=prediction)"
      ]
    },
    {
      "cell_type": "code",
      "execution_count": 10,
      "metadata": {
        "colab": {
          "base_uri": "https://localhost:8080/"
        },
        "id": "VmLvWGQorjgd",
        "outputId": "096c58ca-7f53-47a0-9b51-8c12001dcedb"
      },
      "outputs": [
        {
          "output_type": "stream",
          "name": "stdout",
          "text": [
            "Model: \"model\"\n",
            "_________________________________________________________________\n",
            " Layer (type)                Output Shape              Param #   \n",
            "=================================================================\n",
            " input_1 (InputLayer)        [(None, 224, 224, 3)]     0         \n",
            "                                                                 \n",
            " block1_conv1 (Conv2D)       (None, 224, 224, 64)      1792      \n",
            "                                                                 \n",
            " block1_conv2 (Conv2D)       (None, 224, 224, 64)      36928     \n",
            "                                                                 \n",
            " block1_pool (MaxPooling2D)  (None, 112, 112, 64)      0         \n",
            "                                                                 \n",
            " block2_conv1 (Conv2D)       (None, 112, 112, 128)     73856     \n",
            "                                                                 \n",
            " block2_conv2 (Conv2D)       (None, 112, 112, 128)     147584    \n",
            "                                                                 \n",
            " block2_pool (MaxPooling2D)  (None, 56, 56, 128)       0         \n",
            "                                                                 \n",
            " block3_conv1 (Conv2D)       (None, 56, 56, 256)       295168    \n",
            "                                                                 \n",
            " block3_conv2 (Conv2D)       (None, 56, 56, 256)       590080    \n",
            "                                                                 \n",
            " block3_conv3 (Conv2D)       (None, 56, 56, 256)       590080    \n",
            "                                                                 \n",
            " block3_pool (MaxPooling2D)  (None, 28, 28, 256)       0         \n",
            "                                                                 \n",
            " block4_conv1 (Conv2D)       (None, 28, 28, 512)       1180160   \n",
            "                                                                 \n",
            " block4_conv2 (Conv2D)       (None, 28, 28, 512)       2359808   \n",
            "                                                                 \n",
            " block4_conv3 (Conv2D)       (None, 28, 28, 512)       2359808   \n",
            "                                                                 \n",
            " block4_pool (MaxPooling2D)  (None, 14, 14, 512)       0         \n",
            "                                                                 \n",
            " block5_conv1 (Conv2D)       (None, 14, 14, 512)       2359808   \n",
            "                                                                 \n",
            " block5_conv2 (Conv2D)       (None, 14, 14, 512)       2359808   \n",
            "                                                                 \n",
            " block5_conv3 (Conv2D)       (None, 14, 14, 512)       2359808   \n",
            "                                                                 \n",
            " block5_pool (MaxPooling2D)  (None, 7, 7, 512)         0         \n",
            "                                                                 \n",
            " flatten (Flatten)           (None, 25088)             0         \n",
            "                                                                 \n",
            " dense (Dense)               (None, 3)                 75267     \n",
            "                                                                 \n",
            "=================================================================\n",
            "Total params: 14,789,955\n",
            "Trainable params: 75,267\n",
            "Non-trainable params: 14,714,688\n",
            "_________________________________________________________________\n"
          ]
        }
      ],
      "source": [
        "# view the structure of the model\n",
        "model.summary()"
      ]
    },
    {
      "cell_type": "code",
      "execution_count": 11,
      "metadata": {
        "id": "dtnIzh1nrmDS"
      },
      "outputs": [],
      "source": [
        "# tell the model what cost and optimization method to use\n",
        "model.compile(\n",
        "  loss='categorical_crossentropy',\n",
        "  optimizer='adam',\n",
        "  metrics=['accuracy']\n",
        ")"
      ]
    },
    {
      "cell_type": "code",
      "execution_count": 12,
      "metadata": {
        "id": "fLRe9tFMruda"
      },
      "outputs": [],
      "source": [
        "train_datagen = ImageDataGenerator(rescale = 1./255,\n",
        "                                   shear_range = 0.2,\n",
        "                                   zoom_range = 0.2,\n",
        "                                   horizontal_flip = True)\n",
        "\n",
        "test_datagen = ImageDataGenerator(rescale = 1./255)"
      ]
    },
    {
      "cell_type": "code",
      "execution_count": 13,
      "metadata": {
        "colab": {
          "base_uri": "https://localhost:8080/"
        },
        "id": "FhPHd0otrzJJ",
        "outputId": "5ecaf82b-7c0d-4e25-c607-1942a4feec70"
      },
      "outputs": [
        {
          "output_type": "stream",
          "name": "stdout",
          "text": [
            "Found 979 images belonging to 3 classes.\n",
            "Found 171 images belonging to 3 classes.\n"
          ]
        }
      ],
      "source": [
        "training_set = train_datagen.flow_from_directory(trainPath,\n",
        "                                                 target_size = (224, 224),\n",
        "                                                 batch_size = 10,\n",
        "                                                 class_mode = 'categorical')\n",
        "\n",
        "test_set = test_datagen.flow_from_directory(testPath,\n",
        "                                            target_size = (224, 224),\n",
        "                                            batch_size = 10,\n",
        "                                            class_mode = 'categorical')"
      ]
    },
    {
      "cell_type": "code",
      "execution_count": 14,
      "metadata": {
        "colab": {
          "base_uri": "https://localhost:8080/"
        },
        "id": "HSv3PpCqr20w",
        "outputId": "fa1503da-f57e-4f09-b86c-4f780dfec564"
      },
      "outputs": [
        {
          "metadata": {
            "tags": null
          },
          "name": "stderr",
          "output_type": "stream",
          "text": [
            "/usr/local/lib/python3.7/dist-packages/ipykernel_launcher.py:8: UserWarning: `Model.fit_generator` is deprecated and will be removed in a future version. Please use `Model.fit`, which supports generators.\n",
            "  \n"
          ]
        },
        {
          "output_type": "stream",
          "name": "stdout",
          "text": [
            "Epoch 1/10\n",
            "97/97 [==============================] - 596s 6s/step - loss: 1.2100 - accuracy: 0.5253 - val_loss: 1.0260 - val_accuracy: 0.6294\n",
            "Epoch 2/10\n",
            "97/97 [==============================] - 588s 6s/step - loss: 0.7407 - accuracy: 0.7110 - val_loss: 0.9575 - val_accuracy: 0.6706\n",
            "Epoch 3/10\n",
            "97/97 [==============================] - 589s 6s/step - loss: 0.6132 - accuracy: 0.7534 - val_loss: 0.8389 - val_accuracy: 0.7000\n",
            "Epoch 4/10\n",
            "97/97 [==============================] - 587s 6s/step - loss: 0.4645 - accuracy: 0.8390 - val_loss: 1.3165 - val_accuracy: 0.6412\n",
            "Epoch 5/10\n",
            "97/97 [==============================] - 589s 6s/step - loss: 0.4019 - accuracy: 0.8514 - val_loss: 1.0316 - val_accuracy: 0.6529\n",
            "Epoch 6/10\n",
            "97/97 [==============================] - 588s 6s/step - loss: 0.2716 - accuracy: 0.8999 - val_loss: 1.0882 - val_accuracy: 0.6529\n",
            "Epoch 7/10\n",
            "97/97 [==============================] - 594s 6s/step - loss: 0.2722 - accuracy: 0.9071 - val_loss: 1.0481 - val_accuracy: 0.6765\n",
            "Epoch 8/10\n",
            "97/97 [==============================] - 592s 6s/step - loss: 0.2265 - accuracy: 0.9289 - val_loss: 1.3173 - val_accuracy: 0.6059\n",
            "Epoch 9/10\n",
            "97/97 [==============================] - 593s 6s/step - loss: 0.2981 - accuracy: 0.8751 - val_loss: 1.1330 - val_accuracy: 0.6941\n",
            "Epoch 10/10\n",
            "97/97 [==============================] - 592s 6s/step - loss: 0.2247 - accuracy: 0.9123 - val_loss: 1.5393 - val_accuracy: 0.5706\n"
          ]
        }
      ],
      "source": [
        "import sys\n",
        "# fit the model\n",
        "r = model.fit_generator(\n",
        "  training_set,\n",
        "  validation_data=test_set,\n",
        "  epochs=10,\n",
        "  steps_per_epoch=979//10,\n",
        "  validation_steps=171//10)"
      ]
    },
    {
      "cell_type": "code",
      "execution_count": 34,
      "metadata": {
        "id": "DTiCWhh150pU"
      },
      "outputs": [],
      "source": [
        "#save the model\n",
        "model.save('body.h5')"
      ]
    },
    {
      "cell_type": "code",
      "source": [
        "#import load_model class for loading h5 file\n",
        "from tensorflow.keras.models import load_model\n",
        "#import image class to process the images\n",
        "from tensorflow.keras.preprocessing import image\n",
        "from tensorflow.keras.applications.inception_v3 import preprocess_input\n",
        "import numpy as np"
      ],
      "metadata": {
        "id": "2zDaQnSpK3tK"
      },
      "execution_count": 36,
      "outputs": []
    },
    {
      "cell_type": "code",
      "source": [
        "#load one random image from local system\n",
        "img=image.load_img(r'/content/drive/MyDrive/dataset1/body/training/00-front/0002.JPEG',target_size=(224,224))"
      ],
      "metadata": {
        "id": "smSkrrxHLAe7"
      },
      "execution_count": 37,
      "outputs": []
    },
    {
      "cell_type": "code",
      "source": [
        "#convert image to array format\n",
        "x=image.img_to_array(img)"
      ],
      "metadata": {
        "id": "XRKg1RpRLUaE"
      },
      "execution_count": 38,
      "outputs": []
    },
    {
      "cell_type": "code",
      "source": [
        "import numpy as np\n",
        "x=np.expand_dims(x,axis=0)\n",
        "img_data=preprocess_input(x)\n",
        "img_data.shape"
      ],
      "metadata": {
        "colab": {
          "base_uri": "https://localhost:8080/"
        },
        "id": "0iRLtaX5LYA_",
        "outputId": "249ea784-be20-40f1-c347-9b35b71b4578"
      },
      "execution_count": 19,
      "outputs": [
        {
          "output_type": "execute_result",
          "data": {
            "text/plain": [
              "(1, 224, 224, 3)"
            ]
          },
          "metadata": {},
          "execution_count": 19
        }
      ]
    },
    {
      "cell_type": "code",
      "source": [
        "img_data.shape"
      ],
      "metadata": {
        "colab": {
          "base_uri": "https://localhost:8080/"
        },
        "id": "sSmMs70XLcpw",
        "outputId": "db0d10fb-4fe6-4c94-a078-04d4715e5719"
      },
      "execution_count": 20,
      "outputs": [
        {
          "output_type": "execute_result",
          "data": {
            "text/plain": [
              "(1, 224, 224, 3)"
            ]
          },
          "metadata": {},
          "execution_count": 20
        }
      ]
    },
    {
      "cell_type": "code",
      "source": [
        "model.predict(img_data)"
      ],
      "metadata": {
        "colab": {
          "base_uri": "https://localhost:8080/"
        },
        "id": "kQu617ukLgTB",
        "outputId": "4990de45-219a-4b70-cbbc-28e5ebb87661"
      },
      "execution_count": 21,
      "outputs": [
        {
          "output_type": "stream",
          "name": "stdout",
          "text": [
            "1/1 [==============================] - 1s 732ms/step\n"
          ]
        },
        {
          "output_type": "execute_result",
          "data": {
            "text/plain": [
              "array([[9.9837422e-01, 1.6256354e-03, 7.2354190e-08]], dtype=float32)"
            ]
          },
          "metadata": {},
          "execution_count": 21
        }
      ]
    },
    {
      "cell_type": "code",
      "source": [
        "output=np.argmax(model.predict(img_data), axis=1)\n",
        "output"
      ],
      "metadata": {
        "colab": {
          "base_uri": "https://localhost:8080/"
        },
        "id": "oJJ9mP5ULj4r",
        "outputId": "b03aa4be-221e-419e-d2ce-10c300690dfd"
      },
      "execution_count": 22,
      "outputs": [
        {
          "output_type": "stream",
          "name": "stdout",
          "text": [
            "1/1 [==============================] - 1s 535ms/step\n"
          ]
        },
        {
          "output_type": "execute_result",
          "data": {
            "text/plain": [
              "array([0])"
            ]
          },
          "metadata": {},
          "execution_count": 22
        }
      ]
    },
    {
      "cell_type": "code",
      "source": [
        "imageSize = [224, 224]\n",
        "\n",
        "trainPath = r\"/content/drive/MyDrive/dataset1/level/training\"\n",
        "\n",
        "testPath = r\"/content/drive/MyDrive/dataset1/level/validation\""
      ],
      "metadata": {
        "id": "Lmno4VBgLr9g"
      },
      "execution_count": 23,
      "outputs": []
    },
    {
      "cell_type": "code",
      "source": [
        "vgg1 = VGG16(input_shape=imageSize + [3], weights='imagenet',include_top=False)"
      ],
      "metadata": {
        "id": "fTMSFxnbL7zz"
      },
      "execution_count": 24,
      "outputs": []
    },
    {
      "cell_type": "code",
      "source": [
        "for layer in vgg1.layers:\n",
        "  layer.trainable = False"
      ],
      "metadata": {
        "id": "HHecpGtvMAND"
      },
      "execution_count": 25,
      "outputs": []
    },
    {
      "cell_type": "code",
      "source": [
        "# our layers - you can add more if you want\n",
        "x = Flatten()(vgg1.output)"
      ],
      "metadata": {
        "id": "F7LcF4B7MBzI"
      },
      "execution_count": 26,
      "outputs": []
    },
    {
      "cell_type": "code",
      "source": [
        "prediction = Dense(3, activation='softmax')(x)"
      ],
      "metadata": {
        "id": "Fxew5Br4MHdL"
      },
      "execution_count": 27,
      "outputs": []
    },
    {
      "cell_type": "code",
      "source": [
        "# create a model object\n",
        "model1 = Model(inputs=vgg1.input, outputs=prediction)"
      ],
      "metadata": {
        "id": "3DlNNOKqMKgK"
      },
      "execution_count": 28,
      "outputs": []
    },
    {
      "cell_type": "code",
      "source": [
        "# tell the model what cost and optimization method to use\n",
        "model1.compile(\n",
        "  loss='categorical_crossentropy',\n",
        "  optimizer='adam',\n",
        "  metrics=['accuracy']\n",
        ")"
      ],
      "metadata": {
        "id": "ScEvneoZMP4_"
      },
      "execution_count": 29,
      "outputs": []
    },
    {
      "cell_type": "code",
      "source": [
        "train_datagen = ImageDataGenerator(rescale = 1./255,\n",
        "                                   shear_range = 0.2,\n",
        "                                   zoom_range = 0.2,\n",
        "                                   horizontal_flip = True)\n",
        "\n",
        "test_datagen = ImageDataGenerator(rescale = 1./255)"
      ],
      "metadata": {
        "id": "qRRMA05iMVyW"
      },
      "execution_count": 30,
      "outputs": []
    },
    {
      "cell_type": "code",
      "source": [
        "training_set = train_datagen.flow_from_directory(trainPath,\n",
        "                                                 target_size = (224, 224),\n",
        "                                                 batch_size = 10,\n",
        "                                                 class_mode = 'categorical')\n",
        "\n",
        "test_set = test_datagen.flow_from_directory(testPath,\n",
        "                                            target_size = (224, 224),\n",
        "                                            batch_size = 10,\n",
        "                                            class_mode = 'categorical')"
      ],
      "metadata": {
        "colab": {
          "base_uri": "https://localhost:8080/"
        },
        "id": "G_T260LuMbH9",
        "outputId": "da2ff947-f75d-469d-f326-67e0ee967860"
      },
      "execution_count": 31,
      "outputs": [
        {
          "output_type": "stream",
          "name": "stdout",
          "text": [
            "Found 979 images belonging to 3 classes.\n",
            "Found 171 images belonging to 3 classes.\n"
          ]
        }
      ]
    },
    {
      "cell_type": "code",
      "source": [
        "r = model1.fit_generator(\n",
        "  training_set,\n",
        "  validation_data=test_set,\n",
        "  epochs=10,\n",
        "  steps_per_epoch=979//10,\n",
        "  validation_steps=171//10)"
      ],
      "metadata": {
        "colab": {
          "base_uri": "https://localhost:8080/"
        },
        "id": "SmSmX5zrMhwX",
        "outputId": "18a5f335-7954-4a47-8967-eb357a2911dc"
      },
      "execution_count": 39,
      "outputs": [
        {
          "output_type": "stream",
          "name": "stderr",
          "text": [
            "/usr/local/lib/python3.7/dist-packages/ipykernel_launcher.py:6: UserWarning: `Model.fit_generator` is deprecated and will be removed in a future version. Please use `Model.fit`, which supports generators.\n",
            "  \n"
          ]
        },
        {
          "output_type": "stream",
          "name": "stdout",
          "text": [
            "Epoch 1/10\n",
            "97/97 [==============================] - 600s 6s/step - loss: 0.9744 - accuracy: 0.6336 - val_loss: 0.9600 - val_accuracy: 0.6353\n",
            "Epoch 2/10\n",
            "97/97 [==============================] - 594s 6s/step - loss: 0.7424 - accuracy: 0.7069 - val_loss: 0.9975 - val_accuracy: 0.6353\n",
            "Epoch 3/10\n",
            "97/97 [==============================] - 595s 6s/step - loss: 0.5972 - accuracy: 0.7812 - val_loss: 1.1393 - val_accuracy: 0.6176\n",
            "Epoch 4/10\n",
            "97/97 [==============================] - 594s 6s/step - loss: 0.4651 - accuracy: 0.8122 - val_loss: 1.1309 - val_accuracy: 0.5941\n",
            "Epoch 5/10\n",
            "97/97 [==============================] - 595s 6s/step - loss: 0.3979 - accuracy: 0.8349 - val_loss: 1.1914 - val_accuracy: 0.5706\n",
            "Epoch 6/10\n",
            "97/97 [==============================] - 595s 6s/step - loss: 0.3280 - accuracy: 0.8689 - val_loss: 1.2503 - val_accuracy: 0.5824\n",
            "Epoch 7/10\n",
            "97/97 [==============================] - 596s 6s/step - loss: 0.3338 - accuracy: 0.8741 - val_loss: 1.0894 - val_accuracy: 0.6176\n",
            "Epoch 8/10\n",
            "97/97 [==============================] - 599s 6s/step - loss: 0.2654 - accuracy: 0.9123 - val_loss: 1.1027 - val_accuracy: 0.6471\n",
            "Epoch 9/10\n",
            "97/97 [==============================] - 595s 6s/step - loss: 0.2324 - accuracy: 0.9143 - val_loss: 1.2071 - val_accuracy: 0.6118\n",
            "Epoch 10/10\n",
            "97/97 [==============================] - 596s 6s/step - loss: 0.1750 - accuracy: 0.9381 - val_loss: 1.1278 - val_accuracy: 0.6353\n"
          ]
        }
      ]
    },
    {
      "cell_type": "code",
      "source": [
        "#save the model\n",
        "model.save('level.h5')"
      ],
      "metadata": {
        "id": "PPTdhh3emCDM"
      },
      "execution_count": 40,
      "outputs": []
    }
  ],
  "metadata": {
    "colab": {
      "provenance": [],
      "collapsed_sections": []
    },
    "gpuClass": "standard",
    "kernelspec": {
      "display_name": "Python 3",
      "name": "python3"
    },
    "language_info": {
      "name": "python"
    }
  },
  "nbformat": 4,
  "nbformat_minor": 0
}
